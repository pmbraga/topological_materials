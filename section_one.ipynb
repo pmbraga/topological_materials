{
 "cells": [
  {
   "cell_type": "code",
   "execution_count": 115,
   "metadata": {},
   "outputs": [],
   "source": [
    "import numpy as np\n",
    "import cmath\n",
    "import pandas as pd\n",
    "import scipy\n",
    "import matplotlib.pyplot as plt\n",
    "import seaborn as sn"
   ]
  },
  {
   "cell_type": "code",
   "execution_count": 37,
   "metadata": {},
   "outputs": [],
   "source": [
    "# hamiltonian matrix - each term above has one matrix like the one bellow associated with it\n",
    "\n",
    "spatial_H_ground = np.array([[0.1, -0.4],[-0.4, 0.1]]) # will give valence band - inside cell, no pbc's\n",
    "spatial_plusone = np.array([[0, 0],[0.7, 0]]) # will give conduction band - between N and N+1 cells, will use pbc's \n",
    "spatial_minusone = np.array([[0, 0.7],[0, 0]]) # will give conduction band - between N-1 and N cells, will use pbc's "
   ]
  },
  {
   "cell_type": "code",
   "execution_count": 45,
   "metadata": {},
   "outputs": [],
   "source": [
    "# converting from real space to reciprocal space - Bloch theorem\n",
    "\n",
    "def reciprocal_matrix(k):\n",
    "\n",
    "    H11 = spatial_H_ground[0][0] * cmath.exp(1j * 0 * k) + spatial_plusone[0][0] * cmath.exp(1j * -1 * k) + spatial_minusone[0][0] * cmath.exp(1j * 1 * k)\n",
    "    H12 = spatial_H_ground[0][1] * cmath.exp(1j * 0 * k) + spatial_plusone[0][1] * cmath.exp(1j * -1 * k) + spatial_minusone[0][1] * cmath.exp(1j * 1 * k)\n",
    "    H21 = spatial_H_ground[1][0] * cmath.exp(1j * 0 * k) + spatial_plusone[1][0] * cmath.exp(1j * -1 * k) + spatial_minusone[1][0] * cmath.exp(1j * 1 * k)\n",
    "    H22 = spatial_H_ground[1][1] * cmath.exp(1j * 0 * k) + spatial_plusone[1][1] * cmath.exp(1j * -1 * k) + spatial_minusone[1][1] * cmath.exp(1j * 1 * k)\n",
    "\n",
    "    reciprocal = np.array([ [ H11 , H12 ] , [ H21 , H22 ] ])\n",
    "\n",
    "    return reciprocal"
   ]
  },
  {
   "cell_type": "code",
   "execution_count": 52,
   "metadata": {},
   "outputs": [],
   "source": [
    "# diagonalisation\n",
    "\n",
    "def eigenvalues(matrix):\n",
    "\n",
    "    eigenvalues, eigenvectors = np.linalg.eig(matrix)\n",
    "\n",
    "    return eigenvalues"
   ]
  },
  {
   "cell_type": "code",
   "execution_count": 124,
   "metadata": {},
   "outputs": [],
   "source": [
    "# calculate the dispersion\n",
    "\n",
    "def dispersion(lower_limit, upper_limit):\n",
    "\n",
    "    rec = np.linspace(lower_limit, upper_limit, 1000)\n",
    "    data = []\n",
    "\n",
    "    for i in rec:\n",
    "        matrix = reciprocal_matrix(i)\n",
    "        eig = eigenvalues(matrix)\n",
    "\n",
    "        if eig[0] < 0:\n",
    "            data.append({\n",
    "                'k-space': i,\n",
    "                'valence': eig[0],\n",
    "                'conduction': eig[1]\n",
    "            })\n",
    "        else:\n",
    "            data.append({\n",
    "                'k-space': i,\n",
    "                'valence': eig[1],\n",
    "                'conduction': eig[0]\n",
    "            })\n",
    "\n",
    "    solutions = pd.DataFrame(data, columns=['k-space', 'valence', 'conduction'])\n",
    "\n",
    "    return solutions\n"
   ]
  },
  {
   "cell_type": "code",
   "execution_count": 125,
   "metadata": {},
   "outputs": [],
   "source": [
    "# Plotting\n",
    "\n",
    "sn.set(style=\"whitegrid\")\n",
    "\n",
    "def plot_dispersion(solutions):\n",
    "    plt.figure(figsize=(10, 6))\n",
    "\n",
    "\n",
    "    plt.scatter(solutions['k-space'], solutions['valence'], label='Valence Band', color='blue')\n",
    "    plt.scatter(solutions['k-space'], solutions['conduction'], label='Conduction Band', color='red')\n",
    "    \n",
    "    plt.xlabel('k-space')\n",
    "    plt.ylabel('Energy')\n",
    "    plt.title('Dispersion Relation: Valence and Conduction Bands')\n",
    "    plt.legend()\n",
    "    \n",
    "    plt.show()\n"
   ]
  },
  {
   "cell_type": "code",
   "execution_count": 126,
   "metadata": {},
   "outputs": [],
   "source": [
    "experiment = dispersion(-np.pi, np.pi)"
   ]
  },
  {
   "cell_type": "code",
   "execution_count": 127,
   "metadata": {},
   "outputs": [
    {
     "data": {
      "text/html": [
       "<div>\n",
       "<style scoped>\n",
       "    .dataframe tbody tr th:only-of-type {\n",
       "        vertical-align: middle;\n",
       "    }\n",
       "\n",
       "    .dataframe tbody tr th {\n",
       "        vertical-align: top;\n",
       "    }\n",
       "\n",
       "    .dataframe thead th {\n",
       "        text-align: right;\n",
       "    }\n",
       "</style>\n",
       "<table border=\"1\" class=\"dataframe\">\n",
       "  <thead>\n",
       "    <tr style=\"text-align: right;\">\n",
       "      <th></th>\n",
       "      <th>k-space</th>\n",
       "      <th>valence</th>\n",
       "      <th>conduction</th>\n",
       "    </tr>\n",
       "  </thead>\n",
       "  <tbody>\n",
       "    <tr>\n",
       "      <th>0</th>\n",
       "      <td>-3.141593</td>\n",
       "      <td>-1.000000+0.000000j</td>\n",
       "      <td>1.200000-0.000000j</td>\n",
       "    </tr>\n",
       "    <tr>\n",
       "      <th>1</th>\n",
       "      <td>-3.135303</td>\n",
       "      <td>-0.999995+0.000000j</td>\n",
       "      <td>1.199995-0.000000j</td>\n",
       "    </tr>\n",
       "    <tr>\n",
       "      <th>2</th>\n",
       "      <td>-3.129014</td>\n",
       "      <td>-0.999980-0.000000j</td>\n",
       "      <td>1.199980+0.000000j</td>\n",
       "    </tr>\n",
       "    <tr>\n",
       "      <th>3</th>\n",
       "      <td>-3.122724</td>\n",
       "      <td>-0.999955-0.000000j</td>\n",
       "      <td>1.199955+0.000000j</td>\n",
       "    </tr>\n",
       "    <tr>\n",
       "      <th>4</th>\n",
       "      <td>-3.116435</td>\n",
       "      <td>-0.999919+0.000000j</td>\n",
       "      <td>1.199919-0.000000j</td>\n",
       "    </tr>\n",
       "    <tr>\n",
       "      <th>...</th>\n",
       "      <td>...</td>\n",
       "      <td>...</td>\n",
       "      <td>...</td>\n",
       "    </tr>\n",
       "    <tr>\n",
       "      <th>995</th>\n",
       "      <td>3.116435</td>\n",
       "      <td>-0.999919-0.000000j</td>\n",
       "      <td>1.199919+0.000000j</td>\n",
       "    </tr>\n",
       "    <tr>\n",
       "      <th>996</th>\n",
       "      <td>3.122724</td>\n",
       "      <td>-0.999955+0.000000j</td>\n",
       "      <td>1.199955-0.000000j</td>\n",
       "    </tr>\n",
       "    <tr>\n",
       "      <th>997</th>\n",
       "      <td>3.129014</td>\n",
       "      <td>-0.999980+0.000000j</td>\n",
       "      <td>1.199980-0.000000j</td>\n",
       "    </tr>\n",
       "    <tr>\n",
       "      <th>998</th>\n",
       "      <td>3.135303</td>\n",
       "      <td>-0.999995+0.000000j</td>\n",
       "      <td>1.199995-0.000000j</td>\n",
       "    </tr>\n",
       "    <tr>\n",
       "      <th>999</th>\n",
       "      <td>3.141593</td>\n",
       "      <td>-1.000000-0.000000j</td>\n",
       "      <td>1.200000+0.000000j</td>\n",
       "    </tr>\n",
       "  </tbody>\n",
       "</table>\n",
       "<p>1000 rows × 3 columns</p>\n",
       "</div>"
      ],
      "text/plain": [
       "      k-space             valence          conduction\n",
       "0   -3.141593 -1.000000+0.000000j  1.200000-0.000000j\n",
       "1   -3.135303 -0.999995+0.000000j  1.199995-0.000000j\n",
       "2   -3.129014 -0.999980-0.000000j  1.199980+0.000000j\n",
       "3   -3.122724 -0.999955-0.000000j  1.199955+0.000000j\n",
       "4   -3.116435 -0.999919+0.000000j  1.199919-0.000000j\n",
       "..        ...                 ...                 ...\n",
       "995  3.116435 -0.999919-0.000000j  1.199919+0.000000j\n",
       "996  3.122724 -0.999955+0.000000j  1.199955-0.000000j\n",
       "997  3.129014 -0.999980+0.000000j  1.199980-0.000000j\n",
       "998  3.135303 -0.999995+0.000000j  1.199995-0.000000j\n",
       "999  3.141593 -1.000000-0.000000j  1.200000+0.000000j\n",
       "\n",
       "[1000 rows x 3 columns]"
      ]
     },
     "execution_count": 127,
     "metadata": {},
     "output_type": "execute_result"
    }
   ],
   "source": [
    "experiment"
   ]
  },
  {
   "cell_type": "code",
   "execution_count": 128,
   "metadata": {},
   "outputs": [
    {
     "name": "stderr",
     "output_type": "stream",
     "text": [
      "/Library/Frameworks/Python.framework/Versions/3.11/lib/python3.11/site-packages/matplotlib/cbook.py:1699: ComplexWarning: Casting complex values to real discards the imaginary part\n",
      "  return math.isfinite(val)\n",
      "/Library/Frameworks/Python.framework/Versions/3.11/lib/python3.11/site-packages/matplotlib/collections.py:194: ComplexWarning: Casting complex values to real discards the imaginary part\n",
      "  offsets = np.asanyarray(offsets, float)\n"
     ]
    },
    {
     "data": {
      "image/png": "[encoded data removed]",
      "text/plain": [
       "<Figure size 1000x600 with 1 Axes>"
      ]
     },
     "metadata": {},
     "output_type": "display_data"
    }
   ],
   "source": [
    "plot_dispersion(experiment)"
   ]
  }
 ],
 "metadata": {
  "kernelspec": {
   "display_name": "Python 3",
   "language": "python",
   "name": "python3"
  },
  "language_info": {
   "codemirror_mode": {
    "name": "ipython",
    "version": 3
   },
   "file_extension": ".py",
   "mimetype": "text/x-python",
   "name": "python",
   "nbconvert_exporter": "python",
   "pygments_lexer": "ipython3",
   "version": "3.11.8"
  }
 },
 "nbformat": 4,
 "nbformat_minor": 2
}
